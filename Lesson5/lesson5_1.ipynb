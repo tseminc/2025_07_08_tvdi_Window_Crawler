{
 "cells": [
  {
   "cell_type": "code",
   "execution_count": 1,
   "id": "d5b2bff3",
   "metadata": {},
   "outputs": [
    {
     "name": "stdout",
     "output_type": "stream",
     "text": [
      "This domain is for use in illustrative examples in documents. You may use this domain in literature without prior coordination or asking for permission.\n"
     ]
    }
   ],
   "source": [
    "from playwright.async_api import async_playwright\n",
    "import asyncio\n",
    "import nest_asyncio\n",
    "\n",
    "nest_asyncio.apply()\n",
    "\n",
    "\n",
    "async def main():\n",
    "    async with async_playwright() as p:\n",
    "        browser = await p.chromium.launch(headless=False,slow_mo=1000)\n",
    "        page = await browser.new_page()\n",
    "        await page.goto('https://example.com')\n",
    "        await page.wait_for_selector('p') #等待元素載入\n",
    "        content = await page.inner_text('p')\n",
    "        print(content)\n",
    "        await browser.close()\n",
    "    \n",
    "asyncio.run(main())"
   ]
  },
  {
   "cell_type": "code",
   "execution_count": 2,
   "id": "a2c450ce",
   "metadata": {},
   "outputs": [
    {
     "ename": "TimeoutError",
     "evalue": "Page.goto: Timeout 30000ms exceeded.\nCall log:\n  - navigating to \"https://example.com/\", waiting until \"load\"\n",
     "output_type": "error",
     "traceback": [
      "\u001b[31m---------------------------------------------------------------------------\u001b[39m",
      "\u001b[31mTimeoutError\u001b[39m                              Traceback (most recent call last)",
      "\u001b[36mCell\u001b[39m\u001b[36m \u001b[39m\u001b[32mIn[2]\u001b[39m\u001b[32m, line 11\u001b[39m\n\u001b[32m      9\u001b[39m         \u001b[38;5;28mprint\u001b[39m(content)\n\u001b[32m     10\u001b[39m         \u001b[38;5;28;01mawait\u001b[39;00m browser.close()    \n\u001b[32m---> \u001b[39m\u001b[32m11\u001b[39m \u001b[38;5;28;01mawait\u001b[39;00m main()\n",
      "\u001b[36mCell\u001b[39m\u001b[36m \u001b[39m\u001b[32mIn[2]\u001b[39m\u001b[32m, line 6\u001b[39m, in \u001b[36mmain\u001b[39m\u001b[34m()\u001b[39m\n\u001b[32m      4\u001b[39m browser = \u001b[38;5;28;01mawait\u001b[39;00m p.chromium.launch(headless=\u001b[38;5;28;01mFalse\u001b[39;00m,slow_mo=\u001b[32m1000\u001b[39m)\n\u001b[32m      5\u001b[39m page = \u001b[38;5;28;01mawait\u001b[39;00m browser.new_page()\n\u001b[32m----> \u001b[39m\u001b[32m6\u001b[39m \u001b[38;5;28;01mawait\u001b[39;00m page.goto(\u001b[33m'\u001b[39m\u001b[33mhttps://example.com\u001b[39m\u001b[33m'\u001b[39m)\n\u001b[32m      7\u001b[39m \u001b[38;5;28;01mawait\u001b[39;00m page.wait_for_selector(\u001b[33m'\u001b[39m\u001b[33mp\u001b[39m\u001b[33m'\u001b[39m) \u001b[38;5;66;03m#等待元素載入\u001b[39;00m\n\u001b[32m      8\u001b[39m content = \u001b[38;5;28;01mawait\u001b[39;00m page.inner_text(\u001b[33m'\u001b[39m\u001b[33mp\u001b[39m\u001b[33m'\u001b[39m)\n",
      "\u001b[36mFile \u001b[39m\u001b[32m/opt/miniconda3/envs/web_crawler/lib/python3.13/site-packages/playwright/async_api/_generated.py:8975\u001b[39m, in \u001b[36mPage.goto\u001b[39m\u001b[34m(self, url, timeout, wait_until, referer)\u001b[39m\n\u001b[32m   8914\u001b[39m \u001b[38;5;28;01masync\u001b[39;00m \u001b[38;5;28;01mdef\u001b[39;00m\u001b[38;5;250m \u001b[39m\u001b[34mgoto\u001b[39m(\n\u001b[32m   8915\u001b[39m     \u001b[38;5;28mself\u001b[39m,\n\u001b[32m   8916\u001b[39m     url: \u001b[38;5;28mstr\u001b[39m,\n\u001b[32m   (...)\u001b[39m\u001b[32m   8922\u001b[39m     referer: typing.Optional[\u001b[38;5;28mstr\u001b[39m] = \u001b[38;5;28;01mNone\u001b[39;00m,\n\u001b[32m   8923\u001b[39m ) -> typing.Optional[\u001b[33m\"\u001b[39m\u001b[33mResponse\u001b[39m\u001b[33m\"\u001b[39m]:\n\u001b[32m   8924\u001b[39m \u001b[38;5;250m    \u001b[39m\u001b[33;03m\"\"\"Page.goto\u001b[39;00m\n\u001b[32m   8925\u001b[39m \n\u001b[32m   8926\u001b[39m \u001b[33;03m    Returns the main resource response. In case of multiple redirects, the navigation will resolve with the first\u001b[39;00m\n\u001b[32m   (...)\u001b[39m\u001b[32m   8971\u001b[39m \u001b[33;03m    Union[Response, None]\u001b[39;00m\n\u001b[32m   8972\u001b[39m \u001b[33;03m    \"\"\"\u001b[39;00m\n\u001b[32m   8974\u001b[39m     \u001b[38;5;28;01mreturn\u001b[39;00m mapping.from_impl_nullable(\n\u001b[32m-> \u001b[39m\u001b[32m8975\u001b[39m         \u001b[38;5;28;01mawait\u001b[39;00m \u001b[38;5;28mself\u001b[39m._impl_obj.goto(\n\u001b[32m   8976\u001b[39m             url=url, timeout=timeout, waitUntil=wait_until, referer=referer\n\u001b[32m   8977\u001b[39m         )\n\u001b[32m   8978\u001b[39m     )\n",
      "\u001b[36mFile \u001b[39m\u001b[32m/opt/miniconda3/envs/web_crawler/lib/python3.13/site-packages/playwright/_impl/_page.py:556\u001b[39m, in \u001b[36mPage.goto\u001b[39m\u001b[34m(self, url, timeout, waitUntil, referer)\u001b[39m\n\u001b[32m    549\u001b[39m \u001b[38;5;28;01masync\u001b[39;00m \u001b[38;5;28;01mdef\u001b[39;00m\u001b[38;5;250m \u001b[39m\u001b[34mgoto\u001b[39m(\n\u001b[32m    550\u001b[39m     \u001b[38;5;28mself\u001b[39m,\n\u001b[32m    551\u001b[39m     url: \u001b[38;5;28mstr\u001b[39m,\n\u001b[32m   (...)\u001b[39m\u001b[32m    554\u001b[39m     referer: \u001b[38;5;28mstr\u001b[39m = \u001b[38;5;28;01mNone\u001b[39;00m,\n\u001b[32m    555\u001b[39m ) -> Optional[Response]:\n\u001b[32m--> \u001b[39m\u001b[32m556\u001b[39m     \u001b[38;5;28;01mreturn\u001b[39;00m \u001b[38;5;28;01mawait\u001b[39;00m \u001b[38;5;28mself\u001b[39m._main_frame.goto(**locals_to_params(\u001b[38;5;28mlocals\u001b[39m()))\n",
      "\u001b[36mFile \u001b[39m\u001b[32m/opt/miniconda3/envs/web_crawler/lib/python3.13/site-packages/playwright/_impl/_frame.py:146\u001b[39m, in \u001b[36mFrame.goto\u001b[39m\u001b[34m(self, url, timeout, waitUntil, referer)\u001b[39m\n\u001b[32m    136\u001b[39m \u001b[38;5;28;01masync\u001b[39;00m \u001b[38;5;28;01mdef\u001b[39;00m\u001b[38;5;250m \u001b[39m\u001b[34mgoto\u001b[39m(\n\u001b[32m    137\u001b[39m     \u001b[38;5;28mself\u001b[39m,\n\u001b[32m    138\u001b[39m     url: \u001b[38;5;28mstr\u001b[39m,\n\u001b[32m   (...)\u001b[39m\u001b[32m    141\u001b[39m     referer: \u001b[38;5;28mstr\u001b[39m = \u001b[38;5;28;01mNone\u001b[39;00m,\n\u001b[32m    142\u001b[39m ) -> Optional[Response]:\n\u001b[32m    143\u001b[39m     \u001b[38;5;28;01mreturn\u001b[39;00m cast(\n\u001b[32m    144\u001b[39m         Optional[Response],\n\u001b[32m    145\u001b[39m         from_nullable_channel(\n\u001b[32m--> \u001b[39m\u001b[32m146\u001b[39m             \u001b[38;5;28;01mawait\u001b[39;00m \u001b[38;5;28mself\u001b[39m._channel.send(\n\u001b[32m    147\u001b[39m                 \u001b[33m\"\u001b[39m\u001b[33mgoto\u001b[39m\u001b[33m\"\u001b[39m, \u001b[38;5;28mself\u001b[39m._navigation_timeout, locals_to_params(\u001b[38;5;28mlocals\u001b[39m())\n\u001b[32m    148\u001b[39m             )\n\u001b[32m    149\u001b[39m         ),\n\u001b[32m    150\u001b[39m     )\n",
      "\u001b[36mFile \u001b[39m\u001b[32m/opt/miniconda3/envs/web_crawler/lib/python3.13/site-packages/playwright/_impl/_connection.py:69\u001b[39m, in \u001b[36mChannel.send\u001b[39m\u001b[34m(self, method, timeout_calculator, params, is_internal, title)\u001b[39m\n\u001b[32m     61\u001b[39m \u001b[38;5;28;01masync\u001b[39;00m \u001b[38;5;28;01mdef\u001b[39;00m\u001b[38;5;250m \u001b[39m\u001b[34msend\u001b[39m(\n\u001b[32m     62\u001b[39m     \u001b[38;5;28mself\u001b[39m,\n\u001b[32m     63\u001b[39m     method: \u001b[38;5;28mstr\u001b[39m,\n\u001b[32m   (...)\u001b[39m\u001b[32m     67\u001b[39m     title: \u001b[38;5;28mstr\u001b[39m = \u001b[38;5;28;01mNone\u001b[39;00m,\n\u001b[32m     68\u001b[39m ) -> Any:\n\u001b[32m---> \u001b[39m\u001b[32m69\u001b[39m     \u001b[38;5;28;01mreturn\u001b[39;00m \u001b[38;5;28;01mawait\u001b[39;00m \u001b[38;5;28mself\u001b[39m._connection.wrap_api_call(\n\u001b[32m     70\u001b[39m         \u001b[38;5;28;01mlambda\u001b[39;00m: \u001b[38;5;28mself\u001b[39m._inner_send(method, timeout_calculator, params, \u001b[38;5;28;01mFalse\u001b[39;00m),\n\u001b[32m     71\u001b[39m         is_internal,\n\u001b[32m     72\u001b[39m         title,\n\u001b[32m     73\u001b[39m     )\n",
      "\u001b[36mFile \u001b[39m\u001b[32m/opt/miniconda3/envs/web_crawler/lib/python3.13/site-packages/playwright/_impl/_connection.py:558\u001b[39m, in \u001b[36mConnection.wrap_api_call\u001b[39m\u001b[34m(self, cb, is_internal, title)\u001b[39m\n\u001b[32m    556\u001b[39m     \u001b[38;5;28;01mreturn\u001b[39;00m \u001b[38;5;28;01mawait\u001b[39;00m cb()\n\u001b[32m    557\u001b[39m \u001b[38;5;28;01mexcept\u001b[39;00m \u001b[38;5;167;01mException\u001b[39;00m \u001b[38;5;28;01mas\u001b[39;00m error:\n\u001b[32m--> \u001b[39m\u001b[32m558\u001b[39m     \u001b[38;5;28;01mraise\u001b[39;00m rewrite_error(error, \u001b[33mf\u001b[39m\u001b[33m\"\u001b[39m\u001b[38;5;132;01m{\u001b[39;00mparsed_st[\u001b[33m'\u001b[39m\u001b[33mapiName\u001b[39m\u001b[33m'\u001b[39m]\u001b[38;5;132;01m}\u001b[39;00m\u001b[33m: \u001b[39m\u001b[38;5;132;01m{\u001b[39;00merror\u001b[38;5;132;01m}\u001b[39;00m\u001b[33m\"\u001b[39m) \u001b[38;5;28;01mfrom\u001b[39;00m\u001b[38;5;250m \u001b[39m\u001b[38;5;28;01mNone\u001b[39;00m\n\u001b[32m    559\u001b[39m \u001b[38;5;28;01mfinally\u001b[39;00m:\n\u001b[32m    560\u001b[39m     \u001b[38;5;28mself\u001b[39m._api_zone.set(\u001b[38;5;28;01mNone\u001b[39;00m)\n",
      "\u001b[31mTimeoutError\u001b[39m: Page.goto: Timeout 30000ms exceeded.\nCall log:\n  - navigating to \"https://example.com/\", waiting until \"load\"\n"
     ]
    }
   ],
   "source": [
    "from playwright.async_api import async_playwright\n",
    "async def main():\n",
    "    async with async_playwright() as p:\n",
    "        browser = await p.chromium.launch(headless=False,slow_mo=1000)\n",
    "        page = await browser.new_page()\n",
    "        await page.goto('https://example.com')\n",
    "        await page.wait_for_selector('p') #等待元素載入\n",
    "        content = await page.inner_text('p')\n",
    "        print(content)\n",
    "        await browser.close()    \n",
    "await main()"
   ]
  }
 ],
 "metadata": {
  "kernelspec": {
   "display_name": "web_crawler",
   "language": "python",
   "name": "python3"
  },
  "language_info": {
   "codemirror_mode": {
    "name": "ipython",
    "version": 3
   },
   "file_extension": ".py",
   "mimetype": "text/x-python",
   "name": "python",
   "nbconvert_exporter": "python",
   "pygments_lexer": "ipython3",
   "version": "3.13.5"
  }
 },
 "nbformat": 4,
 "nbformat_minor": 5
}
