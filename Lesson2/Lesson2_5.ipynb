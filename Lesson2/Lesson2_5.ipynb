{
 "cells": [
  {
   "cell_type": "code",
   "execution_count": 1,
   "id": "07b83969",
   "metadata": {},
   "outputs": [
    {
     "name": "stdout",
     "output_type": "stream",
     "text": [
      "1 加到 101 的總和是 : 5050\n"
     ]
    }
   ],
   "source": [
    "total : int = 0\n",
    "lowerbond : int = 1\n",
    "upperbond : int = 101\n",
    "\n",
    "for i in range(lowerbond, upperbond) :\n",
    "    total += i\n",
    "print(f'{lowerbond} 加到 {upperbond} 的總和是 : {total}')"
   ]
  },
  {
   "cell_type": "code",
   "execution_count": 2,
   "id": "e875f260",
   "metadata": {},
   "outputs": [
    {
     "name": "stdout",
     "output_type": "stream",
     "text": [
      "計數器:1\n",
      "計數器:2\n",
      "計數器:3\n",
      "計數器:4\n",
      "計數器:5\n",
      "計數器:6\n"
     ]
    }
   ],
   "source": [
    "i = 0\n",
    "while(True):\n",
    "    is_play = input(\"您還繼續玩嗎?(y,n)\")\n",
    "    if is_play == \"n\":\n",
    "        break\n",
    "    i += 1\n",
    "    print(f\"計數器:{i}\")"
   ]
  }
 ],
 "metadata": {
  "kernelspec": {
   "display_name": "web_crawler",
   "language": "python",
   "name": "python3"
  },
  "language_info": {
   "codemirror_mode": {
    "name": "ipython",
    "version": 3
   },
   "file_extension": ".py",
   "mimetype": "text/x-python",
   "name": "python",
   "nbconvert_exporter": "python",
   "pygments_lexer": "ipython3",
   "version": "3.13.5"
  }
 },
 "nbformat": 4,
 "nbformat_minor": 5
}
