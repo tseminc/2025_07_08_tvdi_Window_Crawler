{
 "cells": [
  {
   "cell_type": "code",
   "execution_count": null,
   "id": "c1cc2c94",
   "metadata": {},
   "outputs": [
    {
     "name": "stdout",
     "output_type": "stream",
     "text": [
      "你已成年，可以投票！\n"
     ]
    }
   ],
   "source": [
    "#單項選擇\n",
    "age : int = 14\n",
    "\n",
    "if age >= 18:\n",
    "    print(\"你已成年，可以投票！\")"
   ]
  },
  {
   "cell_type": "code",
   "execution_count": null,
   "id": "b1c31ae4",
   "metadata": {},
   "outputs": [
    {
     "name": "stdout",
     "output_type": "stream",
     "text": [
      "你已成年，可以投票！\n"
     ]
    }
   ],
   "source": [
    "#雙向選擇\n",
    "age : int = 17\n",
    "\n",
    "if age >= 18:\n",
    "    #True\n",
    "    print(\"你已成年，可以投票！\")\n",
    "else:\n",
    "    #False\n",
    "    print(\"你還未成年，不可以投票！\")"
   ]
  },
  {
   "cell_type": "code",
   "execution_count": 21,
   "id": "a7071b11",
   "metadata": {},
   "outputs": [
    {
     "name": "stdout",
     "output_type": "stream",
     "text": [
      "成績不及格\n"
     ]
    }
   ],
   "source": [
    "#多項選擇\n",
    "score : int = 59\n",
    "\n",
    "if score >= 90:\n",
    "    print(\"成績優秀\")\n",
    "elif score >= 60:\n",
    "    print(\"成績及格\")\n",
    "else:\n",
    "    print(\"成績不及格\")"
   ]
  }
 ],
 "metadata": {
  "kernelspec": {
   "display_name": "web_crawler",
   "language": "python",
   "name": "python3"
  },
  "language_info": {
   "codemirror_mode": {
    "name": "ipython",
    "version": 3
   },
   "file_extension": ".py",
   "mimetype": "text/x-python",
   "name": "python",
   "nbconvert_exporter": "python",
   "pygments_lexer": "ipython3",
   "version": "3.13.5"
  }
 },
 "nbformat": 4,
 "nbformat_minor": 5
}
