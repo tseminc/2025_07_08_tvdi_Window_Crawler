{
 "cells": [
  {
   "cell_type": "code",
   "execution_count": 4,
   "id": "027eb957",
   "metadata": {},
   "outputs": [
    {
     "name": "stdout",
     "output_type": "stream",
     "text": [
      "3.141592653589793\n",
      "2.718281828459045\n"
     ]
    }
   ],
   "source": [
    "import math\n",
    "\n",
    "print(math.pi)\n",
    "print(math.e)"
   ]
  },
  {
   "cell_type": "code",
   "execution_count": null,
   "id": "321b56ae",
   "metadata": {},
   "outputs": [
    {
     "name": "stdout",
     "output_type": "stream",
     "text": [
      "<class 'requests.models.Response'>\n",
      "('<!doctype html><meta charset=\"utf-8\"><meta name=viewport '\n",
      " 'content=\"width=device-width, initial-scale=1\"><title>403</title>403 '\n",
      " 'Forbidden')\n"
     ]
    }
   ],
   "source": [
    "import requests\n",
    "from pprint import pprint\n",
    "\n",
    "r:requests.models.Response = requests.get('https://api.github.com/events')\n",
    "#r:requests.models.Response = requests.get('https://www.examples.com')\n",
    "print(type(r))\n",
    "if r.status_code == 200:\n",
    "    print(\"下載成功!\")\n",
    "    pprint(r.text)\n",
    "else :\n",
    "    print(\"下載失敗!\")        \n"
   ]
  }
 ],
 "metadata": {
  "kernelspec": {
   "display_name": "web_crawler",
   "language": "python",
   "name": "python3"
  },
  "language_info": {
   "codemirror_mode": {
    "name": "ipython",
    "version": 3
   },
   "file_extension": ".py",
   "mimetype": "text/x-python",
   "name": "python",
   "nbconvert_exporter": "python",
   "pygments_lexer": "ipython3",
   "version": "3.11.13"
  }
 },
 "nbformat": 4,
 "nbformat_minor": 5
}
