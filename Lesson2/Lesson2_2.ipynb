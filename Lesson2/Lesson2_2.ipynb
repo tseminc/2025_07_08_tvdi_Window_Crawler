{
 "cells": [
  {
   "cell_type": "markdown",
   "id": "b54a804d",
   "metadata": {},
   "source": [
    "### python 基礎"
   ]
  },
  {
   "cell_type": "code",
   "execution_count": 2,
   "id": "0b9f01c0",
   "metadata": {},
   "outputs": [
    {
     "name": "stdout",
     "output_type": "stream",
     "text": [
      "Hello Python!\n"
     ]
    }
   ],
   "source": [
    "print(\"Hello Python!\")"
   ]
  },
  {
   "cell_type": "code",
   "execution_count": 1,
   "id": "d41c3cae",
   "metadata": {},
   "outputs": [
    {
     "name": "stdout",
     "output_type": "stream",
     "text": [
      "The value of name = Alice\n",
      "The value of age = 25\n",
      "The value of height = 1.65\n",
      "The value of is_student = True\n",
      "The value of scores = [90, 85, 88]\n",
      "The value of point = (3, 4)\n",
      "The value of colors = {'red', 'blue'}\n",
      "The value of person = {'name': 'Alice', 'age': 25, 'is_student': True}\n"
     ]
    }
   ],
   "source": [
    "name : str = \"Alice\"            #字串(Sstring)\n",
    "age : int = 25                  #整數(integer)\n",
    "height : float = 1.65           #浮點數(float)\n",
    "is_student : bool = True        #布林型態(boolean)\n",
    "scores : list = [90, 85, 88]    #串列(list)\n",
    "point : tuple = (3, 4)          #數組(tuple)\n",
    "colors : set = {\"red\", \"blue\"}  #集合(set)\n",
    "person : dict = {               #字典(dict)\n",
    "    \"name\": \"Alice\",\n",
    "    \"age\": 25,\n",
    "    \"is_student\": True\n",
    "}\n",
    "\n",
    "print(f'The value of name = {name}')\n",
    "print(f'The value of age = {age}')\n",
    "print(f'The value of height = {height}')\n",
    "print(f'The value of is_student = {is_student}')\n",
    "print(f'The value of scores = {scores}')\n",
    "print(f'The value of point = {point}')\n",
    "print(f'The value of colors = {colors}')\n",
    "print(f'The value of person = {person}')\n"
   ]
  },
  {
   "cell_type": "code",
   "execution_count": 5,
   "id": "ded526df",
   "metadata": {},
   "outputs": [
    {
     "name": "stdout",
     "output_type": "stream",
     "text": [
      "總和是 : 15\n",
      "總和是 :15 設定sep = ''\n"
     ]
    }
   ],
   "source": [
    "a = 10\n",
    "b = 5\n",
    "sum_result = a + b\n",
    "print(\"總和是 :\", sum_result )\n",
    "print(\"總和是 :\", sum_result, \" 設定sep = ''\", sep = '' )"
   ]
  },
  {
   "cell_type": "code",
   "execution_count": 7,
   "id": "23f96c60",
   "metadata": {},
   "outputs": [
    {
     "data": {
      "text/plain": [
       "100000"
      ]
     },
     "execution_count": 7,
     "metadata": {},
     "output_type": "execute_result"
    }
   ],
   "source": [
    "a ** b"
   ]
  },
  {
   "cell_type": "code",
   "execution_count": 11,
   "id": "3efd8ddf",
   "metadata": {},
   "outputs": [
    {
     "name": "stdout",
     "output_type": "stream",
     "text": [
      "Hello World1 ! 56 使用預設參數 sep = ' '\n",
      "Hello-World2-!-56!\n",
      "這是第二行\n"
     ]
    }
   ],
   "source": [
    "print('Hello', 'World1', \"!\", 56, '使用預設參數 sep = \\' \\'')\n",
    "print('Hello', 'World2', \"!\", 56, sep='-', end='!\\n')\n",
    "print(\"這是第二行\")"
   ]
  },
  {
   "cell_type": "code",
   "execution_count": 14,
   "id": "dc878daa",
   "metadata": {},
   "outputs": [
    {
     "name": "stdout",
     "output_type": "stream",
     "text": [
      "角度為 23.58 度\n"
     ]
    }
   ],
   "source": [
    "import math\n",
    "\n",
    "# 假設對邊長為 3，斜邊長為 5\n",
    "opposite = 20\n",
    "hypotenuse = 50\n",
    "\n",
    "# 求角度（使用反正弦函數）\n",
    "radians = math.asin(opposite / hypotenuse)\n",
    "\n",
    "# 將弧度轉換為角度\n",
    "degrees = math.degrees(radians)\n",
    "\n",
    "print(f\"角度為 {degrees:.2f} 度\")"
   ]
  },
  {
   "cell_type": "code",
   "execution_count": 21,
   "id": "aebccd47",
   "metadata": {},
   "outputs": [
    {
     "name": "stdout",
     "output_type": "stream",
     "text": [
      "角度為 36.87 度\n"
     ]
    }
   ],
   "source": [
    "degrees = 36.86989764584401\n",
    "print(f\"角度為 {degrees:.2f} 度\")"
   ]
  },
  {
   "cell_type": "code",
   "execution_count": 15,
   "id": "d8d37080",
   "metadata": {},
   "outputs": [
    {
     "name": "stdout",
     "output_type": "stream",
     "text": [
      "目前使用的 Python 版本是： 3.13.5 | packaged by Anaconda, Inc. | (main, Jun 12 2025, 11:09:21) [Clang 14.0.6 ]\n"
     ]
    }
   ],
   "source": [
    "import sys\n",
    "\n",
    "print(\"目前使用的 Python 版本是：\", sys.version)"
   ]
  },
  {
   "cell_type": "code",
   "execution_count": 17,
   "id": "dfa7680a",
   "metadata": {},
   "outputs": [
    {
     "name": "stdout",
     "output_type": "stream",
     "text": [
      "Python 版本： 3 13 5\n"
     ]
    }
   ],
   "source": [
    "import sys\n",
    "\n",
    "print(\"Python 版本：\", sys.version_info.major, sys.version_info.minor, sys.version_info.micro)"
   ]
  },
  {
   "cell_type": "code",
   "execution_count": null,
   "id": "7de40adc",
   "metadata": {},
   "outputs": [],
   "source": []
  }
 ],
 "metadata": {
  "kernelspec": {
   "display_name": "web_crawler",
   "language": "python",
   "name": "python3"
  },
  "language_info": {
   "codemirror_mode": {
    "name": "ipython",
    "version": 3
   },
   "file_extension": ".py",
   "mimetype": "text/x-python",
   "name": "python",
   "nbconvert_exporter": "python",
   "pygments_lexer": "ipython3",
   "version": "3.13.5"
  }
 },
 "nbformat": 4,
 "nbformat_minor": 5
}
