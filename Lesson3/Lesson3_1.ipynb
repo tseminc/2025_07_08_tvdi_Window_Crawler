{
 "cells": [
  {
   "cell_type": "code",
   "execution_count": 2,
   "id": "9af528d6",
   "metadata": {},
   "outputs": [
    {
     "name": "stdout",
     "output_type": "stream",
     "text": [
      "3\n",
      "3\n",
      "=====--====\n",
      "3\n",
      "5\n"
     ]
    }
   ],
   "source": [
    "#基本資料類型,copy value\n",
    "n : int = 3\n",
    "x : int = n\n",
    "print(n)\n",
    "print(x)\n",
    "print(\"=====--====\")\n",
    "x = 5\n",
    "print(n)\n",
    "print(x)"
   ]
  },
  {
   "cell_type": "code",
   "execution_count": 4,
   "id": "78c2c50f",
   "metadata": {},
   "outputs": [
    {
     "name": "stdout",
     "output_type": "stream",
     "text": [
      "['apple', 'banana', 'cherry']\n",
      "['apple', 'banana', 'cherry']\n",
      "================\n",
      "['apple', 'raspberry', 'cherry']\n",
      "['apple', 'raspberry', 'cherry']\n",
      "['apple', 'raspberry', 'cherry']\n"
     ]
    }
   ],
   "source": [
    "fruits : list = ['apple', 'banana', 'cherry']\n",
    "type(fruits)\n",
    "print(fruits)\n",
    "another_fruits : list = fruits\n",
    "another_fruits1 : list  = another_fruits\n",
    "print(another_fruits)\n",
    "\n",
    "print(\"================\")\n",
    "fruits[1] = 'raspberry'\n",
    "print(fruits)\n",
    "print(another_fruits)\n",
    "print(another_fruits1)"
   ]
  },
  {
   "cell_type": "code",
   "execution_count": 5,
   "id": "e54aabb4",
   "metadata": {},
   "outputs": [
    {
     "name": "stdout",
     "output_type": "stream",
     "text": [
      "apple\n",
      "raspberry\n",
      "cherry\n"
     ]
    }
   ],
   "source": [
    "print(fruits[0])\n",
    "print(fruits[1])\n",
    "print(fruits[2])"
   ]
  },
  {
   "cell_type": "code",
   "execution_count": 6,
   "id": "b9069532",
   "metadata": {},
   "outputs": [
    {
     "name": "stdout",
     "output_type": "stream",
     "text": [
      "<class 'list'>\n"
     ]
    }
   ],
   "source": [
    "print(type(fruits))\n",
    "fruits.append('pineapple')"
   ]
  },
  {
   "cell_type": "code",
   "execution_count": 7,
   "id": "a29ed886",
   "metadata": {},
   "outputs": [
    {
     "name": "stdout",
     "output_type": "stream",
     "text": [
      "apple\n",
      "raspberry\n",
      "cherry\n",
      "pineapple\n"
     ]
    }
   ],
   "source": [
    "for item in fruits:\n",
    "    print(item)"
   ]
  },
  {
   "cell_type": "code",
   "execution_count": 15,
   "id": "cebff41f",
   "metadata": {},
   "outputs": [
    {
     "name": "stdout",
     "output_type": "stream",
     "text": [
      "[1, 2, 3, 4]\n"
     ]
    }
   ],
   "source": [
    "#use extend in list\n",
    "\n",
    "nums : list = [1, 2]\n",
    "nums.extend([3, 4])\n",
    "print(nums)  # [1, 2, 3, 4]"
   ]
  },
  {
   "cell_type": "code",
   "execution_count": 8,
   "id": "5756fd81",
   "metadata": {},
   "outputs": [
    {
     "name": "stdout",
     "output_type": "stream",
     "text": [
      "['red', 'green', 'blue']\n"
     ]
    }
   ],
   "source": [
    "#Use insert in list\n",
    "\n",
    "colors : list = ['red', 'blue']\n",
    "colors.insert(1, 'green')\n",
    "print(colors)  # ['red', 'green', 'blue']"
   ]
  },
  {
   "cell_type": "code",
   "execution_count": 15,
   "id": "d9a3cf57",
   "metadata": {},
   "outputs": [
    {
     "name": "stdout",
     "output_type": "stream",
     "text": [
      "tel[\"jack\"] = 4098\n",
      "tel[\"sape\"] = 4139\n"
     ]
    }
   ],
   "source": [
    "tel : dict = {'jack': 4098, 'sape': 4139}\n",
    "print(f'tel[\"jack\"] = {tel[\"jack\"]}')\n",
    "print(f'tel[\"sape\"] = {tel[\"sape\"]}')"
   ]
  },
  {
   "cell_type": "code",
   "execution_count": 16,
   "id": "1ebaae73",
   "metadata": {},
   "outputs": [
    {
     "name": "stdout",
     "output_type": "stream",
     "text": [
      "('jack', 4098)\n",
      "('sape', 4139)\n"
     ]
    }
   ],
   "source": [
    "for item in tel.items():\n",
    "    print(item)"
   ]
  }
 ],
 "metadata": {
  "kernelspec": {
   "display_name": "web_crawler",
   "language": "python",
   "name": "python3"
  },
  "language_info": {
   "codemirror_mode": {
    "name": "ipython",
    "version": 3
   },
   "file_extension": ".py",
   "mimetype": "text/x-python",
   "name": "python",
   "nbconvert_exporter": "python",
   "pygments_lexer": "ipython3",
   "version": "3.11.13"
  }
 },
 "nbformat": 4,
 "nbformat_minor": 5
}
