{
 "cells": [
  {
   "cell_type": "code",
   "execution_count": 2,
   "id": "f16d3634",
   "metadata": {},
   "outputs": [
    {
     "name": "stdout",
     "output_type": "stream",
     "text": [
      "sum = 300\n",
      "diff = 100\n",
      "multipy = 20000\n",
      "division = 2.0\n"
     ]
    }
   ],
   "source": [
    "def main():\n",
    "    sum : int = add_number(200, 100)\n",
    "    print(f'sum = {sum}')\n",
    "    diff : int = sub_number(200, 100)\n",
    "    print(f'diff = {diff}')   \n",
    "    multipy : int = multipy_number(200, 100)\n",
    "    print(f'multipy = {multipy}')    \n",
    "    division : int = divide_number(200, 100)\n",
    "    print(f'division = {division}')    \n",
    "\n",
    "\n",
    "def add_number(value1 : int , value2 : int ) -> int :\n",
    "    return value1 + value2\n",
    "\n",
    "def sub_number(value1 : int , value2 : int ) -> int :\n",
    "    return value1 - value2\n",
    "\n",
    "def multipy_number(value1 : int , value2 : int ) -> int :\n",
    "    return value1 * value2\n",
    "\n",
    "def divide_number(value1 : int , value2 : int ) -> float:\n",
    "    return value1 / value2    \n",
    "\n",
    "main()"
   ]
  },
  {
   "cell_type": "code",
   "execution_count": 3,
   "id": "27b400c7",
   "metadata": {},
   "outputs": [],
   "source": [
    "def merge_and_sort_lists(list1: list[int], list2: list[int]) -> list[int]:\n",
    "    merged = list1 + list2\n",
    "    merged.sort()\n",
    "    return merged"
   ]
  },
  {
   "cell_type": "markdown",
   "id": "829ab278",
   "metadata": {},
   "source": [
    "這個 merge_and_sort_lists 函數展示了 Python 中處理列表合併和排序的基本操作。讓我逐步解析這個函數的工作原理和設計特點。\n",
    "\n",
    "## 函數簽章與型別提示\n",
    "函數使用了現代 Python 的型別提示語法，明確指定兩個參數 list1 和 list2 都是整數列表 (list[int])，並且返回值也是整數列表。這種型別提示不僅提高了程式碼的可讀性，也有助於 IDE 提供更好的程式碼補全和錯誤檢查。\n",
    "\n",
    "## 列表合併操作\n",
    "函數的第一步是使用 + 運算符將兩個列表合併：merged = list1 + list2。這個操作創建了一個新的列表，包含了兩個原始列表的所有元素。需要注意的是，這個操作不會修改原始的輸入列表，而是創建一個全新的列表物件。\n",
    "\n",
    "## 就地排序\n",
    "接下來，函數使用 merged.sort() 方法對合併後的列表進行排序。這裡有個重要的細節：sort() 方法是「就地排序」(in-place sorting)，意思是它直接修改原列表而不返回新列表。這與 sorted() 函數不同，後者會返回一個新的已排序列表。\n",
    "\n",
    "## 潛在的改進空間\n",
    "雖然這個函數功能正確，但有幾個值得考慮的改進點：\n",
    "\n",
    "效能考量：可以考慮使用 sorted(list1 + list2) 一步完成合併和排序\n",
    "記憶體使用：如果列表很大，可能需要考慮更節省記憶體的方法\n",
    "彈性：目前只支援整數列表，可以考慮使用泛型來支援更多資料型別\n",
    "這個函數是學習 Python 列表操作的絕佳範例，展示了型別提示、列表合併和排序的核心概念。"
   ]
  },
  {
   "cell_type": "code",
   "execution_count": 13,
   "id": "d4a8230b",
   "metadata": {},
   "outputs": [
    {
     "name": "stdout",
     "output_type": "stream",
     "text": [
      "合併並排序後的列表 1 : [24, 30, 42, 48, 49, 73, 79, 100]\n",
      "合併並排序後的列表 2 : [24, 30, 42, 48, 49, 73, 79, 100]\n"
     ]
    }
   ],
   "source": [
    "import random\n",
    "\n",
    "# 產生一個包含 10 個亂數整數的 list，每個整數介於 1 到 100 之間\n",
    "random_list1 = [random.randint(1, 100) for _ in range(3)]\n",
    "random_list2 = [random.randint(1, 100) for _ in range(5)]\n",
    "\n",
    "merged_sorted_list = merge_and_sort_lists(random_list1, random_list2)\n",
    "print(\"合併並排序後的列表 1 :\", merged_sorted_list)\n",
    "print(f'合併並排序後的列表 2 : {merged_sorted_list}')\n",
    "# 此腳本定義了一個加法函數，合併兩個整數列表並排序。\n",
    "# 它也會產生兩個隨機整數列表，並將它們合併為一個排序後的列表。\n",
    "# 加法的結果儲存在 'result' 變數中。"
   ]
  }
 ],
 "metadata": {
  "kernelspec": {
   "display_name": "web_crawler",
   "language": "python",
   "name": "python3"
  },
  "language_info": {
   "codemirror_mode": {
    "name": "ipython",
    "version": 3
   },
   "file_extension": ".py",
   "mimetype": "text/x-python",
   "name": "python",
   "nbconvert_exporter": "python",
   "pygments_lexer": "ipython3",
   "version": "3.13.5"
  }
 },
 "nbformat": 4,
 "nbformat_minor": 5
}
