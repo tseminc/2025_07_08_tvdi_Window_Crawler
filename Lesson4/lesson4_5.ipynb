{
 "cells": [
  {
   "cell_type": "code",
   "execution_count": 1,
   "id": "15ad5118",
   "metadata": {},
   "outputs": [
    {
     "name": "stdout",
     "output_type": "stream",
     "text": [
      "Collecting playwright\n",
      "  Using cached playwright-1.53.0-py3-none-macosx_11_0_universal2.whl.metadata (3.5 kB)\n",
      "Requirement already satisfied: nest-asyncio in /opt/miniconda3/envs/web_crawler/lib/python3.13/site-packages (1.6.0)\n",
      "Collecting pyee<14,>=13 (from playwright)\n",
      "  Using cached pyee-13.0.0-py3-none-any.whl.metadata (2.9 kB)\n",
      "Collecting greenlet<4.0.0,>=3.1.1 (from playwright)\n",
      "  Using cached greenlet-3.2.3-cp313-cp313-macosx_11_0_universal2.whl.metadata (4.1 kB)\n",
      "Requirement already satisfied: typing-extensions in /opt/miniconda3/envs/web_crawler/lib/python3.13/site-packages (from pyee<14,>=13->playwright) (4.14.1)\n",
      "Using cached playwright-1.53.0-py3-none-macosx_11_0_universal2.whl (40.4 MB)\n",
      "Using cached greenlet-3.2.3-cp313-cp313-macosx_11_0_universal2.whl (270 kB)\n",
      "Using cached pyee-13.0.0-py3-none-any.whl (15 kB)\n",
      "Installing collected packages: pyee, greenlet, playwright\n",
      "\u001b[2K   \u001b[90m━━━━━━━━━━━━━━━━━━━━━━━━━━━━━━━━━━━━━━━━\u001b[0m \u001b[32m3/3\u001b[0m [playwright]3\u001b[0m [playwright]\n",
      "\u001b[1A\u001b[2KSuccessfully installed greenlet-3.2.3 playwright-1.53.0 pyee-13.0.0\n"
     ]
    }
   ],
   "source": [
    "!pip3 install playwright nest-asyncio"
   ]
  },
  {
   "cell_type": "code",
   "execution_count": 3,
   "id": "47b3a4c0",
   "metadata": {},
   "outputs": [
    {
     "name": "stdout",
     "output_type": "stream",
     "text": [
      "Collecting asyncio\n",
      "  Downloading asyncio-3.4.3-py3-none-any.whl.metadata (1.7 kB)\n",
      "Downloading asyncio-3.4.3-py3-none-any.whl (101 kB)\n",
      "Installing collected packages: asyncio\n",
      "Successfully installed asyncio-3.4.3\n"
     ]
    }
   ],
   "source": [
    "!pip3 install asyncio"
   ]
  },
  {
   "cell_type": "code",
   "execution_count": 1,
   "id": "c30d3e84",
   "metadata": {},
   "outputs": [
    {
     "name": "stdout",
     "output_type": "stream",
     "text": [
      "This domain is for use in illustrative examples in documents. You may use this domain in literature without prior coordination or asking for permission.\n"
     ]
    }
   ],
   "source": [
    "from playwright.async_api import async_playwright\n",
    "import asyncio\n",
    "import nest_asyncio\n",
    "nest_asyncio.apply()  # Apply nest_asyncio to allow nested event loops\n",
    "\n",
    "async def main():\n",
    "    async with async_playwright() as p:\n",
    "        #browser = await p.chromium.launch(headless=False)\n",
    "        browser = await p.firefox.launch(headless=False,slow_mo=10000)  # Use Firefox instead of Chromium\n",
    "        page = await browser.new_page()\n",
    "        await page.goto('https://example.com')\n",
    "        await page.wait_for_selector('p') #等待元素載入\n",
    "        content = await page.inner_text('p')\n",
    "        print(content)\n",
    "        await browser.close()\n",
    "    \n",
    "asyncio.run(main())"
   ]
  }
 ],
 "metadata": {
  "kernelspec": {
   "display_name": "web_crawler",
   "language": "python",
   "name": "python3"
  },
  "language_info": {
   "codemirror_mode": {
    "name": "ipython",
    "version": 3
   },
   "file_extension": ".py",
   "mimetype": "text/x-python",
   "name": "python",
   "nbconvert_exporter": "python",
   "pygments_lexer": "ipython3",
   "version": "3.13.5"
  }
 },
 "nbformat": 4,
 "nbformat_minor": 5
}
